{
 "cells": [
  {
   "cell_type": "markdown",
   "metadata": {},
   "source": [
    "# Task 3 - Importing different datasets and visualization using plotly\n",
    "\n",
    "## 1. Import Dataset and investigate contents"
   ]
  },
  {
   "cell_type": "code",
   "execution_count": 1,
   "metadata": {
    "scrolled": true
   },
   "outputs": [
    {
     "data": {
      "text/html": [
       "<div>\n",
       "<style scoped>\n",
       "    .dataframe tbody tr th:only-of-type {\n",
       "        vertical-align: middle;\n",
       "    }\n",
       "\n",
       "    .dataframe tbody tr th {\n",
       "        vertical-align: top;\n",
       "    }\n",
       "\n",
       "    .dataframe thead th {\n",
       "        text-align: right;\n",
       "    }\n",
       "</style>\n",
       "<table border=\"1\" class=\"dataframe\">\n",
       "  <thead>\n",
       "    <tr style=\"text-align: right;\">\n",
       "      <th></th>\n",
       "      <th>country</th>\n",
       "      <th>description</th>\n",
       "      <th>designation</th>\n",
       "      <th>points</th>\n",
       "      <th>price</th>\n",
       "      <th>province</th>\n",
       "      <th>region_1</th>\n",
       "      <th>region_2</th>\n",
       "      <th>taster_name</th>\n",
       "      <th>taster_twitter_handle</th>\n",
       "      <th>title</th>\n",
       "      <th>variety</th>\n",
       "      <th>winery</th>\n",
       "    </tr>\n",
       "  </thead>\n",
       "  <tbody>\n",
       "    <tr>\n",
       "      <th>0</th>\n",
       "      <td>Italy</td>\n",
       "      <td>Aromas include tropical fruit, broom, brimston...</td>\n",
       "      <td>Vulkà Bianco</td>\n",
       "      <td>87</td>\n",
       "      <td>NaN</td>\n",
       "      <td>Sicily &amp; Sardinia</td>\n",
       "      <td>Etna</td>\n",
       "      <td>NaN</td>\n",
       "      <td>Kerin O’Keefe</td>\n",
       "      <td>@kerinokeefe</td>\n",
       "      <td>Nicosia 2013 Vulkà Bianco  (Etna)</td>\n",
       "      <td>White Blend</td>\n",
       "      <td>Nicosia</td>\n",
       "    </tr>\n",
       "    <tr>\n",
       "      <th>1</th>\n",
       "      <td>Portugal</td>\n",
       "      <td>This is ripe and fruity, a wine that is smooth...</td>\n",
       "      <td>Avidagos</td>\n",
       "      <td>87</td>\n",
       "      <td>15.0</td>\n",
       "      <td>Douro</td>\n",
       "      <td>NaN</td>\n",
       "      <td>NaN</td>\n",
       "      <td>Roger Voss</td>\n",
       "      <td>@vossroger</td>\n",
       "      <td>Quinta dos Avidagos 2011 Avidagos Red (Douro)</td>\n",
       "      <td>Portuguese Red</td>\n",
       "      <td>Quinta dos Avidagos</td>\n",
       "    </tr>\n",
       "    <tr>\n",
       "      <th>2</th>\n",
       "      <td>US</td>\n",
       "      <td>Tart and snappy, the flavors of lime flesh and...</td>\n",
       "      <td>NaN</td>\n",
       "      <td>87</td>\n",
       "      <td>14.0</td>\n",
       "      <td>Oregon</td>\n",
       "      <td>Willamette Valley</td>\n",
       "      <td>Willamette Valley</td>\n",
       "      <td>Paul Gregutt</td>\n",
       "      <td>@paulgwine</td>\n",
       "      <td>Rainstorm 2013 Pinot Gris (Willamette Valley)</td>\n",
       "      <td>Pinot Gris</td>\n",
       "      <td>Rainstorm</td>\n",
       "    </tr>\n",
       "    <tr>\n",
       "      <th>3</th>\n",
       "      <td>US</td>\n",
       "      <td>Pineapple rind, lemon pith and orange blossom ...</td>\n",
       "      <td>Reserve Late Harvest</td>\n",
       "      <td>87</td>\n",
       "      <td>13.0</td>\n",
       "      <td>Michigan</td>\n",
       "      <td>Lake Michigan Shore</td>\n",
       "      <td>NaN</td>\n",
       "      <td>Alexander Peartree</td>\n",
       "      <td>NaN</td>\n",
       "      <td>St. Julian 2013 Reserve Late Harvest Riesling ...</td>\n",
       "      <td>Riesling</td>\n",
       "      <td>St. Julian</td>\n",
       "    </tr>\n",
       "    <tr>\n",
       "      <th>4</th>\n",
       "      <td>US</td>\n",
       "      <td>Much like the regular bottling from 2012, this...</td>\n",
       "      <td>Vintner's Reserve Wild Child Block</td>\n",
       "      <td>87</td>\n",
       "      <td>65.0</td>\n",
       "      <td>Oregon</td>\n",
       "      <td>Willamette Valley</td>\n",
       "      <td>Willamette Valley</td>\n",
       "      <td>Paul Gregutt</td>\n",
       "      <td>@paulgwine</td>\n",
       "      <td>Sweet Cheeks 2012 Vintner's Reserve Wild Child...</td>\n",
       "      <td>Pinot Noir</td>\n",
       "      <td>Sweet Cheeks</td>\n",
       "    </tr>\n",
       "  </tbody>\n",
       "</table>\n",
       "</div>"
      ],
      "text/plain": [
       "    country                                        description  \\\n",
       "0     Italy  Aromas include tropical fruit, broom, brimston...   \n",
       "1  Portugal  This is ripe and fruity, a wine that is smooth...   \n",
       "2        US  Tart and snappy, the flavors of lime flesh and...   \n",
       "3        US  Pineapple rind, lemon pith and orange blossom ...   \n",
       "4        US  Much like the regular bottling from 2012, this...   \n",
       "\n",
       "                          designation  points  price           province  \\\n",
       "0                        Vulkà Bianco      87    NaN  Sicily & Sardinia   \n",
       "1                            Avidagos      87   15.0              Douro   \n",
       "2                                 NaN      87   14.0             Oregon   \n",
       "3                Reserve Late Harvest      87   13.0           Michigan   \n",
       "4  Vintner's Reserve Wild Child Block      87   65.0             Oregon   \n",
       "\n",
       "              region_1           region_2         taster_name  \\\n",
       "0                 Etna                NaN       Kerin O’Keefe   \n",
       "1                  NaN                NaN          Roger Voss   \n",
       "2    Willamette Valley  Willamette Valley        Paul Gregutt   \n",
       "3  Lake Michigan Shore                NaN  Alexander Peartree   \n",
       "4    Willamette Valley  Willamette Valley        Paul Gregutt   \n",
       "\n",
       "  taster_twitter_handle                                              title  \\\n",
       "0          @kerinokeefe                  Nicosia 2013 Vulkà Bianco  (Etna)   \n",
       "1            @vossroger      Quinta dos Avidagos 2011 Avidagos Red (Douro)   \n",
       "2           @paulgwine       Rainstorm 2013 Pinot Gris (Willamette Valley)   \n",
       "3                   NaN  St. Julian 2013 Reserve Late Harvest Riesling ...   \n",
       "4           @paulgwine   Sweet Cheeks 2012 Vintner's Reserve Wild Child...   \n",
       "\n",
       "          variety               winery  \n",
       "0     White Blend              Nicosia  \n",
       "1  Portuguese Red  Quinta dos Avidagos  \n",
       "2      Pinot Gris            Rainstorm  \n",
       "3        Riesling           St. Julian  \n",
       "4      Pinot Noir         Sweet Cheeks  "
      ]
     },
     "execution_count": 1,
     "metadata": {},
     "output_type": "execute_result"
    }
   ],
   "source": [
    "import pandas as pd\n",
    "\n",
    "reviews = pd.read_csv('data/winemag-data-130k-v2.csv.zip', index_col = 0)\n",
    "reviews.head()"
   ]
  },
  {
   "cell_type": "code",
   "execution_count": 2,
   "metadata": {},
   "outputs": [
    {
     "data": {
      "text/html": [
       "        <script type=\"text/javascript\">\n",
       "        window.PlotlyConfig = {MathJaxConfig: 'local'};\n",
       "        if (window.MathJax) {MathJax.Hub.Config({SVG: {font: \"STIX-Web\"}});}\n",
       "        if (typeof require !== 'undefined') {\n",
       "        require.undef(\"plotly\");\n",
       "        requirejs.config({\n",
       "            paths: {\n",
       "                'plotly': ['https://cdn.plot.ly/plotly-latest.min']\n",
       "            }\n",
       "        });\n",
       "        require(['plotly'], function(Plotly) {\n",
       "            window._Plotly = Plotly;\n",
       "        });\n",
       "        }\n",
       "        </script>\n",
       "        "
      ]
     },
     "metadata": {},
     "output_type": "display_data"
    }
   ],
   "source": [
    "from plotly.offline import init_notebook_mode, iplot\n",
    "init_notebook_mode(connected = True)"
   ]
  },
  {
   "cell_type": "markdown",
   "metadata": {},
   "source": [
    "Out of the columns above, there are a few that can be used for meaningful analysis and some are mostly irrelevant for plotting. So let's go ahead and extract country, variety, price, and points for our visualizations."
   ]
  },
  {
   "cell_type": "code",
   "execution_count": 3,
   "metadata": {},
   "outputs": [],
   "source": [
    "reviews_split = reviews.loc[:, ('country', 'variety', 'points', 'price')]"
   ]
  },
  {
   "cell_type": "markdown",
   "metadata": {},
   "source": [
    "## 2. Scatter Plot\n",
    "\n",
    "Let's start by getting a scatter plot of country VS the mean number of points it has scored to see which countries have the highest score."
   ]
  },
  {
   "cell_type": "code",
   "execution_count": 4,
   "metadata": {
    "scrolled": true
   },
   "outputs": [],
   "source": [
    "import numpy as np\n",
    "\n",
    "#melt the frame to get the mean of points per country\n",
    "df_scatter1 = pd.pivot_table(reviews_split, values = 'points',\n",
    "              index = 'country',\n",
    "              aggfunc = np.mean).reset_index()\n",
    "\n",
    "#order dataframe by points\n",
    "df_scatter1.sort_values(by = 'points', inplace = True)"
   ]
  },
  {
   "cell_type": "code",
   "execution_count": 5,
   "metadata": {
    "scrolled": true
   },
   "outputs": [
    {
     "data": {
      "text/plain": [
       "'line_country_VS_mean_points.html'"
      ]
     },
     "execution_count": 5,
     "metadata": {},
     "output_type": "execute_result"
    }
   ],
   "source": [
    "import plotly\n",
    "import plotly.graph_objs as go\n",
    "\n",
    "#plot data as scatter points\n",
    "data = [go.Scatter(\n",
    "          x=df_scatter1['country'],\n",
    "          y=df_scatter1['points'],\n",
    "          mode = 'markers')]\n",
    "\n",
    "#Save the plot to html file\n",
    "plotly.offline.plot(data, filename='scatter_country_VS_mean_points.html')\n",
    "\n",
    "#plot data as connected line\n",
    "data = [go.Scatter(\n",
    "          x=df_scatter1['country'],\n",
    "          y=df_scatter1['points'])]\n",
    "\n",
    "#Save the plot to html file\n",
    "plotly.offline.plot(data, filename='line_country_VS_mean_points.html')"
   ]
  },
  {
   "cell_type": "markdown",
   "metadata": {},
   "source": [
    "Another meaningful graph would be the average price VS the points which might help indicate if the price is higher for wines with a higher score"
   ]
  },
  {
   "cell_type": "code",
   "execution_count": null,
   "metadata": {},
   "outputs": [],
   "source": [
    "\n",
    "#melt the dataframe so that each rank (total points) has a mean price\n",
    "df_scatter2 = pd.pivot_table(reviews_split, values = 'price',\n",
    "              index = 'points',\n",
    "              aggfunc = np.mean).reset_index()\n",
    "\n",
    "#plot data as scatter points\n",
    "data = [go.Scatter(\n",
    "          x=df_scatter2['points'],\n",
    "          y=df_scatter2['price'])]\n",
    "\n",
    "#Save the plot to html file\n",
    "plotly.offline.plot(data, filename='line_price_VS_points.html')"
   ]
  },
  {
   "cell_type": "markdown",
   "metadata": {},
   "source": [
    "## 3. Choropleth Mean Points VS Country\n",
    "\n",
    "A choropleth graph requires geographical data. From the data provided, a choropleth can be used to plot points or price VS country. To plot mean point for each country, we can use the same frame we made for the first scatter plot."
   ]
  },
  {
   "cell_type": "code",
   "execution_count": null,
   "metadata": {
    "scrolled": true
   },
   "outputs": [],
   "source": [
    "#plotting mean price VS country\n",
    "data = [go.Choropleth(\n",
    "                locations = df_scatter1['country'],\n",
    "                locationmode = 'country names',\n",
    "                z = df_scatter1['points'],\n",
    "                text = df_scatter1['country'],\n",
    "                colorscale = 'Earth',\n",
    "                marker_line_color='darkgray',\n",
    "                marker_line_width=0.5,\n",
    "                colorbar_tickprefix = '#',\n",
    "                colorbar_title = 'Mean<br>Points',\n",
    "        )]\n",
    "\n",
    "#Save the plot to html file\n",
    "plotly.offline.plot(data, filename='choropleth_country_VS_mean_points.html')"
   ]
  },
  {
   "cell_type": "markdown",
   "metadata": {},
   "source": [
    "A dataframe has to be made for the mean price per country before we can plot."
   ]
  },
  {
   "cell_type": "code",
   "execution_count": null,
   "metadata": {},
   "outputs": [],
   "source": [
    "#melt the dataframe to get mean price per country\n",
    "df_choropleth = pd.pivot_table(reviews_split, values = 'price',\n",
    "              index = 'country',\n",
    "              aggfunc = np.mean).reset_index()\n",
    "\n",
    "#order dataframe by points\n",
    "df_choropleth.sort_values(by = 'price', inplace = True)"
   ]
  },
  {
   "cell_type": "code",
   "execution_count": null,
   "metadata": {},
   "outputs": [],
   "source": [
    "#plotting mean point VS country\n",
    "data = [go.Choropleth(\n",
    "                locations = df_choropleth['country'],\n",
    "                locationmode = 'country names',\n",
    "                z = df_choropleth['price'],\n",
    "                text = df_choropleth['country'],\n",
    "                colorscale = 'Greens',\n",
    "                autocolorscale=False,\n",
    "                marker_line_color='darkgray',\n",
    "                marker_line_width=0.5,\n",
    "                colorbar_tickprefix = '#',\n",
    "                colorbar_title = 'Mean<br>Price',\n",
    "        )]\n",
    "\n",
    "#Save the plot to html file\n",
    "plotly.offline.plot(data, filename='choropleth_country_VS_mean_price.html')"
   ]
  },
  {
   "cell_type": "markdown",
   "metadata": {},
   "source": [
    "## 4. Surface Plot\n",
    "\n",
    "Further investigation of the data is required to extract data for the surface plot."
   ]
  },
  {
   "cell_type": "code",
   "execution_count": 66,
   "metadata": {},
   "outputs": [
    {
     "data": {
      "text/plain": [
       "US          54504\n",
       "France      22093\n",
       "Italy       19540\n",
       "Spain        6645\n",
       "Portugal     5691\n",
       "Name: country, dtype: int64"
      ]
     },
     "execution_count": 66,
     "metadata": {},
     "output_type": "execute_result"
    }
   ],
   "source": [
    "reviews['country'].value_counts().head() #show the top 5 repeated countries in the data"
   ]
  },
  {
   "cell_type": "code",
   "execution_count": 67,
   "metadata": {},
   "outputs": [
    {
     "data": {
      "text/plain": [
       "Pinot Noir                  13272\n",
       "Chardonnay                  11753\n",
       "Cabernet Sauvignon           9472\n",
       "Red Blend                    8946\n",
       "Bordeaux-style Red Blend     6915\n",
       "Name: variety, dtype: int64"
      ]
     },
     "execution_count": 67,
     "metadata": {},
     "output_type": "execute_result"
    }
   ],
   "source": [
    "reviews['variety'].value_counts().head() #show the top 5 repeated varieties in the data"
   ]
  },
  {
   "cell_type": "markdown",
   "metadata": {},
   "source": [
    "Now we can extract more meaningful data by splitting the data and choosing only the top 5 countries ('US', 'France', 'Italy', 'Spain', 'Portugal') and the top 5 varieties ('Pinot Noir', 'Chardonnay', 'Cabernet Sauvignon', 'Red Bland', 'Bordeaux-style Red Blend')."
   ]
  },
  {
   "cell_type": "code",
   "execution_count": 81,
   "metadata": {},
   "outputs": [
    {
     "data": {
      "text/plain": [
       "country       0\n",
       "variety       0\n",
       "points        0\n",
       "price      3095\n",
       "dtype: int64"
      ]
     },
     "execution_count": 81,
     "metadata": {},
     "output_type": "execute_result"
    }
   ],
   "source": [
    "#Extract the top 5 countries and top 5 varities\n",
    "reviews_decreased = reviews_split.copy()\n",
    "\n",
    "reviews_decreased = reviews_decreased[(\n",
    "    (reviews_split['variety'] == 'Pinot Noir') | (reviews_split['variety'] == 'Chardonnay') | \n",
    "    (reviews_split['variety'] == 'Cabernet Sauvignon') | (reviews_split['variety'] == 'Red Blend') |\n",
    "    (reviews_split['variety'] == 'Bordeaux-style Red Blend'))&\n",
    "    ((reviews_split['country'] == 'US') | (reviews_split['country'] == 'France') |\n",
    "     (reviews_split['country'] == 'Italy') | (reviews_split['country'] == 'Spain') |\n",
    "     (reviews_split['country'] == 'Portugal'))]\n",
    "\n",
    "reviews_decreased.isnull().sum()"
   ]
  },
  {
   "cell_type": "markdown",
   "metadata": {},
   "source": [
    "Note here that there are a lot of null values in the price column. We can drop those."
   ]
  },
  {
   "cell_type": "code",
   "execution_count": 82,
   "metadata": {
    "scrolled": true
   },
   "outputs": [],
   "source": [
    "reviews_surface = reviews_decreased.copy()\n",
    "# reviews_surface.dropna(axis = 0, inplace = True)"
   ]
  },
  {
   "cell_type": "code",
   "execution_count": 83,
   "metadata": {
    "scrolled": true
   },
   "outputs": [
    {
     "data": {
      "text/html": [
       "<div>\n",
       "<style scoped>\n",
       "    .dataframe tbody tr th:only-of-type {\n",
       "        vertical-align: middle;\n",
       "    }\n",
       "\n",
       "    .dataframe tbody tr th {\n",
       "        vertical-align: top;\n",
       "    }\n",
       "\n",
       "    .dataframe thead th {\n",
       "        text-align: right;\n",
       "    }\n",
       "</style>\n",
       "<table border=\"1\" class=\"dataframe\">\n",
       "  <thead>\n",
       "    <tr style=\"text-align: right;\">\n",
       "      <th>country</th>\n",
       "      <th>France</th>\n",
       "      <th>Italy</th>\n",
       "      <th>Portugal</th>\n",
       "      <th>Spain</th>\n",
       "      <th>US</th>\n",
       "    </tr>\n",
       "    <tr>\n",
       "      <th>points</th>\n",
       "      <th></th>\n",
       "      <th></th>\n",
       "      <th></th>\n",
       "      <th></th>\n",
       "      <th></th>\n",
       "    </tr>\n",
       "  </thead>\n",
       "  <tbody>\n",
       "    <tr>\n",
       "      <th>80</th>\n",
       "      <td>16.800000</td>\n",
       "      <td>NaN</td>\n",
       "      <td>NaN</td>\n",
       "      <td>14.666667</td>\n",
       "      <td>21.322581</td>\n",
       "    </tr>\n",
       "    <tr>\n",
       "      <th>81</th>\n",
       "      <td>13.473684</td>\n",
       "      <td>9.000000</td>\n",
       "      <td>NaN</td>\n",
       "      <td>24.611111</td>\n",
       "      <td>20.368421</td>\n",
       "    </tr>\n",
       "    <tr>\n",
       "      <th>82</th>\n",
       "      <td>16.076923</td>\n",
       "      <td>15.000000</td>\n",
       "      <td>NaN</td>\n",
       "      <td>22.185185</td>\n",
       "      <td>22.751579</td>\n",
       "    </tr>\n",
       "    <tr>\n",
       "      <th>83</th>\n",
       "      <td>18.037037</td>\n",
       "      <td>19.481481</td>\n",
       "      <td>NaN</td>\n",
       "      <td>15.897436</td>\n",
       "      <td>22.877442</td>\n",
       "    </tr>\n",
       "    <tr>\n",
       "      <th>84</th>\n",
       "      <td>19.708122</td>\n",
       "      <td>17.181818</td>\n",
       "      <td>18.000000</td>\n",
       "      <td>21.571429</td>\n",
       "      <td>25.390575</td>\n",
       "    </tr>\n",
       "    <tr>\n",
       "      <th>85</th>\n",
       "      <td>19.680672</td>\n",
       "      <td>21.427632</td>\n",
       "      <td>13.400000</td>\n",
       "      <td>20.887324</td>\n",
       "      <td>26.998226</td>\n",
       "    </tr>\n",
       "    <tr>\n",
       "      <th>86</th>\n",
       "      <td>22.052542</td>\n",
       "      <td>23.169753</td>\n",
       "      <td>16.500000</td>\n",
       "      <td>21.163265</td>\n",
       "      <td>30.539066</td>\n",
       "    </tr>\n",
       "    <tr>\n",
       "      <th>87</th>\n",
       "      <td>24.567059</td>\n",
       "      <td>25.854135</td>\n",
       "      <td>21.375000</td>\n",
       "      <td>24.317308</td>\n",
       "      <td>32.290558</td>\n",
       "    </tr>\n",
       "    <tr>\n",
       "      <th>88</th>\n",
       "      <td>33.891529</td>\n",
       "      <td>30.275693</td>\n",
       "      <td>17.125000</td>\n",
       "      <td>27.863309</td>\n",
       "      <td>36.629179</td>\n",
       "    </tr>\n",
       "    <tr>\n",
       "      <th>89</th>\n",
       "      <td>37.762737</td>\n",
       "      <td>35.816495</td>\n",
       "      <td>25.750000</td>\n",
       "      <td>32.478723</td>\n",
       "      <td>38.114862</td>\n",
       "    </tr>\n",
       "    <tr>\n",
       "      <th>90</th>\n",
       "      <td>40.818182</td>\n",
       "      <td>43.220648</td>\n",
       "      <td>32.444444</td>\n",
       "      <td>35.474227</td>\n",
       "      <td>44.840708</td>\n",
       "    </tr>\n",
       "    <tr>\n",
       "      <th>91</th>\n",
       "      <td>52.196018</td>\n",
       "      <td>50.411150</td>\n",
       "      <td>39.333333</td>\n",
       "      <td>48.202703</td>\n",
       "      <td>49.731010</td>\n",
       "    </tr>\n",
       "    <tr>\n",
       "      <th>92</th>\n",
       "      <td>69.499037</td>\n",
       "      <td>60.415771</td>\n",
       "      <td>19.000000</td>\n",
       "      <td>59.770270</td>\n",
       "      <td>55.900281</td>\n",
       "    </tr>\n",
       "    <tr>\n",
       "      <th>93</th>\n",
       "      <td>95.164733</td>\n",
       "      <td>70.284024</td>\n",
       "      <td>30.333333</td>\n",
       "      <td>79.400000</td>\n",
       "      <td>61.745463</td>\n",
       "    </tr>\n",
       "    <tr>\n",
       "      <th>94</th>\n",
       "      <td>140.692308</td>\n",
       "      <td>91.287500</td>\n",
       "      <td>43.500000</td>\n",
       "      <td>105.833333</td>\n",
       "      <td>75.516345</td>\n",
       "    </tr>\n",
       "    <tr>\n",
       "      <th>95</th>\n",
       "      <td>230.305085</td>\n",
       "      <td>107.484848</td>\n",
       "      <td>NaN</td>\n",
       "      <td>78.750000</td>\n",
       "      <td>81.339286</td>\n",
       "    </tr>\n",
       "    <tr>\n",
       "      <th>96</th>\n",
       "      <td>393.424242</td>\n",
       "      <td>133.375000</td>\n",
       "      <td>NaN</td>\n",
       "      <td>88.333333</td>\n",
       "      <td>98.947368</td>\n",
       "    </tr>\n",
       "    <tr>\n",
       "      <th>97</th>\n",
       "      <td>419.575758</td>\n",
       "      <td>224.777778</td>\n",
       "      <td>NaN</td>\n",
       "      <td>NaN</td>\n",
       "      <td>128.865672</td>\n",
       "    </tr>\n",
       "    <tr>\n",
       "      <th>98</th>\n",
       "      <td>496.700000</td>\n",
       "      <td>170.666667</td>\n",
       "      <td>NaN</td>\n",
       "      <td>NaN</td>\n",
       "      <td>171.375000</td>\n",
       "    </tr>\n",
       "    <tr>\n",
       "      <th>99</th>\n",
       "      <td>680.000000</td>\n",
       "      <td>235.000000</td>\n",
       "      <td>NaN</td>\n",
       "      <td>NaN</td>\n",
       "      <td>155.300000</td>\n",
       "    </tr>\n",
       "    <tr>\n",
       "      <th>100</th>\n",
       "      <td>825.200000</td>\n",
       "      <td>NaN</td>\n",
       "      <td>NaN</td>\n",
       "      <td>NaN</td>\n",
       "      <td>325.000000</td>\n",
       "    </tr>\n",
       "  </tbody>\n",
       "</table>\n",
       "</div>"
      ],
      "text/plain": [
       "country      France       Italy   Portugal       Spain          US\n",
       "points                                                            \n",
       "80        16.800000         NaN        NaN   14.666667   21.322581\n",
       "81        13.473684    9.000000        NaN   24.611111   20.368421\n",
       "82        16.076923   15.000000        NaN   22.185185   22.751579\n",
       "83        18.037037   19.481481        NaN   15.897436   22.877442\n",
       "84        19.708122   17.181818  18.000000   21.571429   25.390575\n",
       "85        19.680672   21.427632  13.400000   20.887324   26.998226\n",
       "86        22.052542   23.169753  16.500000   21.163265   30.539066\n",
       "87        24.567059   25.854135  21.375000   24.317308   32.290558\n",
       "88        33.891529   30.275693  17.125000   27.863309   36.629179\n",
       "89        37.762737   35.816495  25.750000   32.478723   38.114862\n",
       "90        40.818182   43.220648  32.444444   35.474227   44.840708\n",
       "91        52.196018   50.411150  39.333333   48.202703   49.731010\n",
       "92        69.499037   60.415771  19.000000   59.770270   55.900281\n",
       "93        95.164733   70.284024  30.333333   79.400000   61.745463\n",
       "94       140.692308   91.287500  43.500000  105.833333   75.516345\n",
       "95       230.305085  107.484848        NaN   78.750000   81.339286\n",
       "96       393.424242  133.375000        NaN   88.333333   98.947368\n",
       "97       419.575758  224.777778        NaN         NaN  128.865672\n",
       "98       496.700000  170.666667        NaN         NaN  171.375000\n",
       "99       680.000000  235.000000        NaN         NaN  155.300000\n",
       "100      825.200000         NaN        NaN         NaN  325.000000"
      ]
     },
     "execution_count": 83,
     "metadata": {},
     "output_type": "execute_result"
    }
   ],
   "source": [
    "reviews_surface = pd.pivot_table(reviews_surface, values='price', \n",
    "                                 index=['points'], \n",
    "                                 columns='country',\n",
    "                                aggfunc = 'mean')\n",
    "\n",
    "reviews_surface"
   ]
  },
  {
   "cell_type": "code",
   "execution_count": 87,
   "metadata": {},
   "outputs": [
    {
     "data": {
      "text/plain": [
       "'surface_country_price_points.html'"
      ]
     },
     "execution_count": 87,
     "metadata": {},
     "output_type": "execute_result"
    }
   ],
   "source": [
    "#Plot the surface plot with country, price, and points\n",
    "data = [go.Surface(z = reviews_surface.loc[84:94].values,\n",
    "                   x = reviews_surface.columns.tolist(),\n",
    "                   y = reviews_surface.loc[84:94].index.to_list(),\n",
    "                   colorscale = 'Viridis')]\n",
    "\n",
    "#Save the plot to html file\n",
    "plotly.offline.plot(data, filename='surface_country_price_points.html')"
   ]
  },
  {
   "cell_type": "code",
   "execution_count": 86,
   "metadata": {},
   "outputs": [
    {
     "data": {
      "text/html": [
       "<div>\n",
       "<style scoped>\n",
       "    .dataframe tbody tr th:only-of-type {\n",
       "        vertical-align: middle;\n",
       "    }\n",
       "\n",
       "    .dataframe tbody tr th {\n",
       "        vertical-align: top;\n",
       "    }\n",
       "\n",
       "    .dataframe thead th {\n",
       "        text-align: right;\n",
       "    }\n",
       "</style>\n",
       "<table border=\"1\" class=\"dataframe\">\n",
       "  <thead>\n",
       "    <tr style=\"text-align: right;\">\n",
       "      <th>country</th>\n",
       "      <th>France</th>\n",
       "      <th>Italy</th>\n",
       "      <th>Portugal</th>\n",
       "      <th>Spain</th>\n",
       "      <th>US</th>\n",
       "    </tr>\n",
       "    <tr>\n",
       "      <th>points</th>\n",
       "      <th></th>\n",
       "      <th></th>\n",
       "      <th></th>\n",
       "      <th></th>\n",
       "      <th></th>\n",
       "    </tr>\n",
       "  </thead>\n",
       "  <tbody>\n",
       "    <tr>\n",
       "      <th>84</th>\n",
       "      <td>19.708122</td>\n",
       "      <td>17.181818</td>\n",
       "      <td>18.000000</td>\n",
       "      <td>21.571429</td>\n",
       "      <td>25.390575</td>\n",
       "    </tr>\n",
       "    <tr>\n",
       "      <th>85</th>\n",
       "      <td>19.680672</td>\n",
       "      <td>21.427632</td>\n",
       "      <td>13.400000</td>\n",
       "      <td>20.887324</td>\n",
       "      <td>26.998226</td>\n",
       "    </tr>\n",
       "    <tr>\n",
       "      <th>86</th>\n",
       "      <td>22.052542</td>\n",
       "      <td>23.169753</td>\n",
       "      <td>16.500000</td>\n",
       "      <td>21.163265</td>\n",
       "      <td>30.539066</td>\n",
       "    </tr>\n",
       "    <tr>\n",
       "      <th>87</th>\n",
       "      <td>24.567059</td>\n",
       "      <td>25.854135</td>\n",
       "      <td>21.375000</td>\n",
       "      <td>24.317308</td>\n",
       "      <td>32.290558</td>\n",
       "    </tr>\n",
       "    <tr>\n",
       "      <th>88</th>\n",
       "      <td>33.891529</td>\n",
       "      <td>30.275693</td>\n",
       "      <td>17.125000</td>\n",
       "      <td>27.863309</td>\n",
       "      <td>36.629179</td>\n",
       "    </tr>\n",
       "    <tr>\n",
       "      <th>89</th>\n",
       "      <td>37.762737</td>\n",
       "      <td>35.816495</td>\n",
       "      <td>25.750000</td>\n",
       "      <td>32.478723</td>\n",
       "      <td>38.114862</td>\n",
       "    </tr>\n",
       "    <tr>\n",
       "      <th>90</th>\n",
       "      <td>40.818182</td>\n",
       "      <td>43.220648</td>\n",
       "      <td>32.444444</td>\n",
       "      <td>35.474227</td>\n",
       "      <td>44.840708</td>\n",
       "    </tr>\n",
       "    <tr>\n",
       "      <th>91</th>\n",
       "      <td>52.196018</td>\n",
       "      <td>50.411150</td>\n",
       "      <td>39.333333</td>\n",
       "      <td>48.202703</td>\n",
       "      <td>49.731010</td>\n",
       "    </tr>\n",
       "    <tr>\n",
       "      <th>92</th>\n",
       "      <td>69.499037</td>\n",
       "      <td>60.415771</td>\n",
       "      <td>19.000000</td>\n",
       "      <td>59.770270</td>\n",
       "      <td>55.900281</td>\n",
       "    </tr>\n",
       "    <tr>\n",
       "      <th>93</th>\n",
       "      <td>95.164733</td>\n",
       "      <td>70.284024</td>\n",
       "      <td>30.333333</td>\n",
       "      <td>79.400000</td>\n",
       "      <td>61.745463</td>\n",
       "    </tr>\n",
       "    <tr>\n",
       "      <th>94</th>\n",
       "      <td>140.692308</td>\n",
       "      <td>91.287500</td>\n",
       "      <td>43.500000</td>\n",
       "      <td>105.833333</td>\n",
       "      <td>75.516345</td>\n",
       "    </tr>\n",
       "  </tbody>\n",
       "</table>\n",
       "</div>"
      ],
      "text/plain": [
       "country      France      Italy   Portugal       Spain         US\n",
       "points                                                          \n",
       "84        19.708122  17.181818  18.000000   21.571429  25.390575\n",
       "85        19.680672  21.427632  13.400000   20.887324  26.998226\n",
       "86        22.052542  23.169753  16.500000   21.163265  30.539066\n",
       "87        24.567059  25.854135  21.375000   24.317308  32.290558\n",
       "88        33.891529  30.275693  17.125000   27.863309  36.629179\n",
       "89        37.762737  35.816495  25.750000   32.478723  38.114862\n",
       "90        40.818182  43.220648  32.444444   35.474227  44.840708\n",
       "91        52.196018  50.411150  39.333333   48.202703  49.731010\n",
       "92        69.499037  60.415771  19.000000   59.770270  55.900281\n",
       "93        95.164733  70.284024  30.333333   79.400000  61.745463\n",
       "94       140.692308  91.287500  43.500000  105.833333  75.516345"
      ]
     },
     "execution_count": 86,
     "metadata": {},
     "output_type": "execute_result"
    }
   ],
   "source": [
    "reviews_surface.loc[84:94]"
   ]
  },
  {
   "cell_type": "markdown",
   "metadata": {},
   "source": [
    "## 5. Heatmap"
   ]
  },
  {
   "cell_type": "code",
   "execution_count": 9,
   "metadata": {},
   "outputs": [],
   "source": [
    "#melt table to get mean points per country and variety\n",
    "reviews_heatmap = pd.pivot_table(reviews_decreased, values='points', \n",
    "                                 index=['variety'], \n",
    "                                 columns='country')"
   ]
  },
  {
   "cell_type": "code",
   "execution_count": 15,
   "metadata": {},
   "outputs": [
    {
     "data": {
      "text/plain": [
       "'heatmap_country_variety_points.html'"
      ]
     },
     "execution_count": 15,
     "metadata": {},
     "output_type": "execute_result"
    }
   ],
   "source": [
    "#Plot the surface plot with country, price, and points\n",
    "data = [go.Heatmap(z = reviews_heatmap.values,\n",
    "                   x = reviews_heatmap.columns.tolist(),\n",
    "                   y = reviews_heatmap.index.to_list(),\n",
    "                   colorscale = 'Viridis')]\n",
    "\n",
    "#Save the plot to html file\n",
    "plotly.offline.plot(data, filename='heatmap_country_variety_points.html')"
   ]
  }
 ],
 "metadata": {
  "kernelspec": {
   "display_name": "Basic_ML",
   "language": "python",
   "name": "basic_ml"
  },
  "language_info": {
   "codemirror_mode": {
    "name": "ipython",
    "version": 3
   },
   "file_extension": ".py",
   "mimetype": "text/x-python",
   "name": "python",
   "nbconvert_exporter": "python",
   "pygments_lexer": "ipython3",
   "version": "3.6.7"
  }
 },
 "nbformat": 4,
 "nbformat_minor": 2
}
